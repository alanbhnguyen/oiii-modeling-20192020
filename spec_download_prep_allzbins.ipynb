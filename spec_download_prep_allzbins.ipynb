{
 "cells": [
  {
   "cell_type": "code",
   "execution_count": 1,
   "metadata": {},
   "outputs": [
    {
     "data": {
      "text/plain": [
       "'\\nGenerate text files to download spectra from all 4 z bins\\n\\nAuthor: Alan Nguyen\\n\\n01-06-2020\\n'"
      ]
     },
     "execution_count": 1,
     "metadata": {},
     "output_type": "execute_result"
    }
   ],
   "source": [
    "\"\"\"\n",
    "Generate text files to download spectra from all 4 z bins\n",
    "\n",
    "Author: Alan Nguyen\n",
    "\n",
    "01-06-2020\n",
    "\"\"\""
   ]
  },
  {
   "cell_type": "code",
   "execution_count": 2,
   "metadata": {},
   "outputs": [],
   "source": [
    "import numpy as np\n",
    "import matplotlib\n",
    "import matplotlib.pyplot as plt\n",
    "from astropy.io import fits\n",
    "from astropy.table import Table, Column\n",
    "from scipy.optimize import curve_fit, leastsq\n",
    "from astropy.cosmology import WMAP9 as cosmo\n",
    "from astropy import units as u\n",
    "from BOSS_func_v6 import *\n",
    "from general_functions_v1 import *"
   ]
  },
  {
   "cell_type": "code",
   "execution_count": 3,
   "metadata": {},
   "outputs": [],
   "source": [
    "hdul1 = fits.open('AGN_zbin_fitsfiles/AGN_zbin1.fits')\n",
    "\n",
    "emlinkin_data_zbin1 = hdul1[1].data\n",
    "\n",
    "hdul1.close()\n",
    "\n",
    "#########################################\n",
    "\n",
    "hdul2 = fits.open('AGN_zbin_fitsfiles/AGN_zbin2.fits')\n",
    "\n",
    "emlinkin_data_zbin2 = hdul2[1].data\n",
    "\n",
    "hdul2.close()\n",
    "\n",
    "#########################################\n",
    "\n",
    "hdul3 = fits.open('AGN_zbin_fitsfiles/AGN_zbin3.fits')\n",
    "\n",
    "emlinkin_data_zbin3 = hdul3[1].data\n",
    "\n",
    "hdul3.close()\n",
    "\n",
    "#########################################\n",
    "\n",
    "hdul4 = fits.open('AGN_zbin_fitsfiles/AGN_zbin4.fits')\n",
    "\n",
    "emlinkin_data_zbin4 = hdul4[1].data\n",
    "\n",
    "hdul4.close()"
   ]
  },
  {
   "cell_type": "code",
   "execution_count": 10,
   "metadata": {},
   "outputs": [],
   "source": [
    "directories_zbin1 = []\n",
    "\n",
    "specdirect_zbin1 = open('specdirect_zbin1.txt', 'w')\n",
    "\n",
    "for row in emlinkin_data_zbin1:\n",
    "    PLATE = str(row['PLATE'])\n",
    "    MJD   = str(row['MJD'])\n",
    "    FIBER = '{:04}'.format(row['FIBERID'])\n",
    "    filename = ['spec',PLATE, MJD, FIBER]\n",
    "    filename = '-'.join(filename)\n",
    "    filename += '.fits'\n",
    "    directory = PLATE + '/' + filename + '\\n'\n",
    "    \n",
    "#     print(directory)\n",
    "    \n",
    "    specdirect_zbin1.write(directory)\n",
    "\n",
    "specdirect_zbin1.close()"
   ]
  },
  {
   "cell_type": "code",
   "execution_count": 4,
   "metadata": {},
   "outputs": [],
   "source": [
    "directories_zbin2 = []\n",
    "\n",
    "specdirect_zbin2 = open('specdirect_zbin2.txt', 'w')\n",
    "\n",
    "for row in emlinkin_data_zbin2:\n",
    "    PLATE = str(row['PLATE'])\n",
    "    MJD   = str(row['MJD'])\n",
    "    FIBER = '{:04}'.format(row['FIBERID'])\n",
    "    filename = ['spec',PLATE, MJD, FIBER]\n",
    "    filename = '-'.join(filename)\n",
    "    filename += '.fits'\n",
    "    directory = PLATE + '/' + filename + '\\n'\n",
    "    \n",
    "#     print(directory)\n",
    "    \n",
    "    specdirect_zbin2.write(directory)\n",
    "\n",
    "specdirect_zbin2.close()"
   ]
  },
  {
   "cell_type": "code",
   "execution_count": 4,
   "metadata": {},
   "outputs": [],
   "source": [
    "directories_zbin3 = []\n",
    "\n",
    "specdirect_zbin3 = open('specdirect_zbin3.txt', 'w')\n",
    "\n",
    "for row in emlinkin_data_zbin3:\n",
    "    PLATE = str(row['PLATE'])\n",
    "    MJD   = str(row['MJD'])\n",
    "    FIBER = '{:04}'.format(row['FIBERID'])\n",
    "    filename = ['spec',PLATE, MJD, FIBER]\n",
    "    filename = '-'.join(filename)\n",
    "    filename += '.fits'\n",
    "    directory = PLATE + '/' + filename + '\\n'\n",
    "    \n",
    "#     print(directory)\n",
    "    \n",
    "    specdirect_zbin3.write(directory)\n",
    "\n",
    "specdirect_zbin3.close()"
   ]
  },
  {
   "cell_type": "code",
   "execution_count": 4,
   "metadata": {},
   "outputs": [],
   "source": [
    "directories_zbin4 = []\n",
    "\n",
    "specdirect_zbin4 = open('specdirect_zbin4.txt', 'w')\n",
    "\n",
    "for row in emlinkin_data_zbin4:\n",
    "    PLATE = str(row['PLATE'])\n",
    "    MJD   = str(row['MJD'])\n",
    "    FIBER = '{:04}'.format(row['FIBERID'])\n",
    "    filename = ['spec',PLATE, MJD, FIBER]\n",
    "    filename = '-'.join(filename)\n",
    "    filename += '.fits'\n",
    "    directory = PLATE + '/' + filename + '\\n'\n",
    "    \n",
    "#     print(directory)\n",
    "    \n",
    "    specdirect_zbin4.write(directory)\n",
    "\n",
    "specdirect_zbin4.close()"
   ]
  }
 ],
 "metadata": {
  "kernelspec": {
   "display_name": "Python 3",
   "language": "python",
   "name": "python3"
  },
  "language_info": {
   "codemirror_mode": {
    "name": "ipython",
    "version": 3
   },
   "file_extension": ".py",
   "mimetype": "text/x-python",
   "name": "python",
   "nbconvert_exporter": "python",
   "pygments_lexer": "ipython3",
   "version": "3.7.3"
  }
 },
 "nbformat": 4,
 "nbformat_minor": 2
}
