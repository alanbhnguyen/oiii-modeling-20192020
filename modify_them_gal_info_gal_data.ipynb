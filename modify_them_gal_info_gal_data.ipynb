{
 "cells": [
  {
   "cell_type": "code",
   "execution_count": 1,
   "metadata": {},
   "outputs": [
    {
     "data": {
      "text/plain": [
       "'\\nfix gal_info, gal_line files\\n\\nAuthor: Alan Nguyen\\n\\n16-07-2020\\n'"
      ]
     },
     "execution_count": 1,
     "metadata": {},
     "output_type": "execute_result"
    }
   ],
   "source": [
    "\"\"\"\n",
    "fix gal_info, gal_line files\n",
    "\n",
    "Author: Alan Nguyen\n",
    "\n",
    "16-07-2020\n",
    "\"\"\""
   ]
  },
  {
   "cell_type": "code",
   "execution_count": 2,
   "metadata": {},
   "outputs": [],
   "source": [
    "import numpy as np\n",
    "import matplotlib\n",
    "import matplotlib.pyplot as plt\n",
    "from astropy.io import fits\n",
    "from astropy.table import Table, Column\n",
    "from scipy.optimize import curve_fit, leastsq\n",
    "from scipy.stats import spearmanr\n",
    "from astropy.cosmology import WMAP9 as cosmo\n",
    "from astropy import units as u\n",
    "import os\n",
    "import math as m\n",
    "from astropy import constants as const\n",
    "import time\n",
    "from BOSS_func_v9 import *\n",
    "from general_functions_v1 import *\n",
    "import matplotlib.patches as mpatches"
   ]
  },
  {
   "cell_type": "code",
   "execution_count": 3,
   "metadata": {},
   "outputs": [],
   "source": [
    "hdul = fits.open('woo_results_files\\woo_zbin1_results_v2.fits')\n",
    "\n",
    "zbin1_results = hdul[1].data\n",
    "\n",
    "hdul.close()\n",
    "\n",
    "##################################################################################\n",
    "\n",
    "hdul = fits.open('woo_results_files\\woo_zbin2_results_v2.fits')\n",
    "\n",
    "zbin2_results = hdul[1].data\n",
    "\n",
    "hdul.close()\n",
    "\n",
    "##################################################################################\n",
    "\n",
    "hdul = fits.open('woo_results_files\\woo_zbin3_results_v2.fits')\n",
    "\n",
    "zbin3_results = hdul[1].data\n",
    "\n",
    "hdul.close()\n",
    "\n",
    "##################################################################################\n",
    "\n",
    "hdul = fits.open('woo_results_files\\woo_zbin4_results_v2.fits')\n",
    "\n",
    "zbin4_results = hdul[1].data\n",
    "\n",
    "hdul.close()\n",
    "\n",
    "##################################################################################\n",
    "\n",
    "hdul = fits.open('recreate_woo/gal_info_zbin1.fits')\n",
    "\n",
    "zbin1_data = hdul[1].data\n",
    "\n",
    "hdul.close()\n",
    "\n",
    "##################################################################################\n",
    "\n",
    "hdul = fits.open('recreate_woo/gal_info_zbin2.fits')\n",
    "\n",
    "zbin2_data = hdul[1].data\n",
    "\n",
    "hdul.close()\n",
    "\n",
    "##################################################################################\n",
    "\n",
    "hdul = fits.open('recreate_woo/gal_info_zbin3.fits')\n",
    "\n",
    "zbin3_data = hdul[1].data\n",
    "\n",
    "hdul.close()\n",
    "\n",
    "##################################################################################\n",
    "\n",
    "hdul = fits.open('recreate_woo/gal_info_zbin4.fits')\n",
    "\n",
    "zbin4_data = hdul[1].data\n",
    "\n",
    "hdul.close()\n",
    "\n",
    "##################################################################################\n",
    "\n",
    "hdul = fits.open('recreate_woo/gal_line_zbin1.fits')\n",
    "\n",
    "zbin1_line = hdul[1].data\n",
    "\n",
    "hdul.close()\n",
    "\n",
    "##################################################################################\n",
    "\n",
    "hdul = fits.open('recreate_woo/gal_line_zbin2.fits')\n",
    "\n",
    "zbin2_line = hdul[1].data\n",
    "\n",
    "hdul.close()\n",
    "\n",
    "##################################################################################\n",
    "\n",
    "hdul = fits.open('recreate_woo/gal_line_zbin3.fits')\n",
    "\n",
    "zbin3_line = hdul[1].data\n",
    "\n",
    "hdul.close()\n",
    "\n",
    "##################################################################################\n",
    "\n",
    "hdul = fits.open('recreate_woo/gal_line_zbin4.fits')\n",
    "\n",
    "zbin4_line = hdul[1].data\n",
    "\n",
    "hdul.close()"
   ]
  },
  {
   "cell_type": "code",
   "execution_count": 4,
   "metadata": {},
   "outputs": [
    {
     "name": "stdout",
     "output_type": "stream",
     "text": [
      "1434\n",
      "1434\n"
     ]
    }
   ],
   "source": [
    "zbin1_results_key = zbin1_results['KEY']\n",
    "zbin1_data_key = []\n",
    "\n",
    "\n",
    "count = 0\n",
    "\n",
    "for row in zbin1_data:\n",
    "    \n",
    "    try:\n",
    "        ######################################### set up file directories\n",
    "\n",
    "        PLATE = '{:04}'.format(row['PLATEID'])\n",
    "        MJD   = str(row['MJD'])\n",
    "        FIBER = '{:03}'.format(row['FIBERID'])\n",
    "        key_list = ['spSpec',MJD, PLATE, FIBER]\n",
    "        key = '-'.join(key_list)\n",
    "        ###############################\n",
    "        ###############################\n",
    "        \n",
    "        filename = key + '.fit'\n",
    "        folder = 'woo_zbin1_specs'\n",
    "\n",
    "        directory = os.path.join(folder, filename)\n",
    "\n",
    "        #########################################\n",
    "\n",
    "        z = row['Z']\n",
    "        k = 1 + z\n",
    "\n",
    "        #########################################\n",
    "\n",
    "        hdul = fits.open(directory) #using above directory open fits for the specific spectra\n",
    "\n",
    "        header = hdul[0].header\n",
    "        data   = hdul[0].data\n",
    "\n",
    "        hdul.close()\n",
    "        zbin1_data_key.append(key)\n",
    "    except:\n",
    "        count = 0\n",
    "\n",
    "zbin1_data_key = np.array(zbin1_data_key)\n",
    "\n",
    "print(len(zbin1_data_key))\n",
    "print(len(zbin1_results_key))"
   ]
  },
  {
   "cell_type": "code",
   "execution_count": 5,
   "metadata": {},
   "outputs": [],
   "source": [
    "zbin1_results_table = Table(zbin1_results)\n",
    "\n",
    "zbin1_results_table['KEY'] = zbin1_data_key\n",
    "\n",
    "# zbin1_results_table.write('woo_zbin1_results_v3.fits')"
   ]
  },
  {
   "cell_type": "code",
   "execution_count": 6,
   "metadata": {},
   "outputs": [
    {
     "name": "stdout",
     "output_type": "stream",
     "text": [
      "4061\n",
      "4061\n"
     ]
    }
   ],
   "source": [
    "zbin2_results_key = zbin2_results['KEY']\n",
    "zbin2_data_key = []\n",
    "\n",
    "\n",
    "count = 0\n",
    "\n",
    "for row in zbin2_data:\n",
    "    \n",
    "    try:\n",
    "        ######################################### set up file directories\n",
    "\n",
    "        PLATE = '{:04}'.format(row['PLATEID'])\n",
    "        MJD   = str(row['MJD'])\n",
    "        FIBER = '{:03}'.format(row['FIBERID'])\n",
    "        key_list = ['spSpec',MJD, PLATE, FIBER]\n",
    "        key = '-'.join(key_list)\n",
    "        ###############################\n",
    "        ###############################\n",
    "        \n",
    "        filename = key + '.fit'\n",
    "        folder = 'woo_zbin2_specs'\n",
    "\n",
    "        directory = os.path.join(folder, filename)\n",
    "\n",
    "        #########################################\n",
    "\n",
    "        z = row['Z']\n",
    "        k = 1 + z\n",
    "\n",
    "        #########################################\n",
    "\n",
    "        hdul = fits.open(directory) #using above directory open fits for the specific spectra\n",
    "\n",
    "        header = hdul[0].header\n",
    "        data   = hdul[0].data\n",
    "\n",
    "        hdul.close()\n",
    "        zbin2_data_key.append(key)\n",
    "    except:\n",
    "        count = 0\n",
    "\n",
    "zbin2_data_key = np.array(zbin2_data_key)\n",
    "\n",
    "print(len(zbin2_data_key))\n",
    "print(len(zbin2_results_key))"
   ]
  },
  {
   "cell_type": "code",
   "execution_count": 7,
   "metadata": {},
   "outputs": [],
   "source": [
    "zbin2_results_table = Table(zbin2_results)\n",
    "\n",
    "zbin2_results_table['KEY'] = zbin2_data_key\n",
    "\n",
    "# zbin2_results_table.write('woo_zbin2_results_v3.fits')"
   ]
  },
  {
   "cell_type": "code",
   "execution_count": 8,
   "metadata": {},
   "outputs": [
    {
     "name": "stdout",
     "output_type": "stream",
     "text": [
      "5103\n",
      "5103\n"
     ]
    }
   ],
   "source": [
    "zbin3_results_key = zbin3_results['KEY']\n",
    "zbin3_data_key = []\n",
    "\n",
    "count = 0\n",
    "\n",
    "for row in zbin3_data:\n",
    "    \n",
    "    try:\n",
    "        ######################################### set up file directories\n",
    "\n",
    "        PLATE = '{:04}'.format(row['PLATEID'])\n",
    "        MJD   = str(row['MJD'])\n",
    "        FIBER = '{:03}'.format(row['FIBERID'])\n",
    "        key_list = ['spSpec',MJD, PLATE, FIBER]\n",
    "        key = '-'.join(key_list)\n",
    "        ###############################\n",
    "        ###############################\n",
    "        \n",
    "        filename = key + '.fit'\n",
    "        folder = 'woo_zbin3_specs'\n",
    "\n",
    "        directory = os.path.join(folder, filename)\n",
    "\n",
    "        #########################################\n",
    "\n",
    "        z = row['Z']\n",
    "        k = 1 + z\n",
    "\n",
    "        #########################################\n",
    "\n",
    "        hdul = fits.open(directory) #using above directory open fits for the specific spectra\n",
    "\n",
    "        header = hdul[0].header\n",
    "        data   = hdul[0].data\n",
    "\n",
    "        hdul.close()\n",
    "        zbin3_data_key.append(key)\n",
    "    except:\n",
    "        count = 0\n",
    "\n",
    "zbin3_data_key = np.array(zbin3_data_key)\n",
    "\n",
    "print(len(zbin3_data_key))\n",
    "print(len(zbin3_results_key))"
   ]
  },
  {
   "cell_type": "code",
   "execution_count": 9,
   "metadata": {},
   "outputs": [],
   "source": [
    "zbin3_results_table = Table(zbin3_results)\n",
    "\n",
    "zbin3_results_table['KEY'] = zbin3_data_key\n",
    "\n",
    "# zbin3_results_table.write('woo_zbin3_results_v3.fits')"
   ]
  },
  {
   "cell_type": "code",
   "execution_count": 10,
   "metadata": {},
   "outputs": [
    {
     "name": "stdout",
     "output_type": "stream",
     "text": [
      "305\n",
      "305\n"
     ]
    }
   ],
   "source": [
    "zbin4_results_key = zbin4_results['KEY']\n",
    "zbin4_data_key = []\n",
    "\n",
    "count = 0\n",
    "\n",
    "for row in zbin4_data:\n",
    "    \n",
    "    try:\n",
    "        ######################################### set up file directories\n",
    "\n",
    "        PLATE = '{:04}'.format(row['PLATEID'])\n",
    "        MJD   = str(row['MJD'])\n",
    "        FIBER = '{:03}'.format(row['FIBERID'])\n",
    "        key_list = ['spSpec',MJD, PLATE, FIBER]\n",
    "        key = '-'.join(key_list)\n",
    "        ###############################\n",
    "        ###############################\n",
    "        \n",
    "        filename = key + '.fit'\n",
    "        folder = 'woo_zbin4_specs'\n",
    "\n",
    "        directory = os.path.join(folder, filename)\n",
    "\n",
    "        #########################################\n",
    "\n",
    "        z = row['Z']\n",
    "        k = 1 + z\n",
    "\n",
    "        #########################################\n",
    "\n",
    "        hdul = fits.open(directory) #using above directory open fits for the specific spectra\n",
    "\n",
    "        header = hdul[0].header\n",
    "        data   = hdul[0].data\n",
    "\n",
    "        hdul.close()\n",
    "        zbin4_data_key.append(key)\n",
    "    except:\n",
    "        count = 0\n",
    "\n",
    "zbin4_data_key = np.array(zbin4_data_key)\n",
    "\n",
    "print(len(zbin4_data_key))\n",
    "print(len(zbin4_results_key))"
   ]
  },
  {
   "cell_type": "code",
   "execution_count": 11,
   "metadata": {},
   "outputs": [],
   "source": [
    "zbin4_results_table = Table(zbin4_results)\n",
    "\n",
    "zbin4_results_table['KEY'] = zbin4_data_key\n",
    "\n",
    "# zbin4_results_table.write('woo_zbin4_results_v3.fits')"
   ]
  },
  {
   "cell_type": "code",
   "execution_count": 12,
   "metadata": {},
   "outputs": [],
   "source": [
    "hdul = fits.open('woo_results_files\\woo_zbin1_results_v3.fits')\n",
    "\n",
    "zbin1_results = hdul[1].data\n",
    "\n",
    "hdul.close()\n",
    "\n",
    "##################################################################################\n",
    "\n",
    "hdul = fits.open('woo_results_files\\woo_zbin2_results_v3.fits')\n",
    "\n",
    "zbin2_results = hdul[1].data\n",
    "\n",
    "hdul.close()\n",
    "\n",
    "##################################################################################\n",
    "\n",
    "hdul = fits.open('woo_results_files\\woo_zbin3_results_v3.fits')\n",
    "\n",
    "zbin3_results = hdul[1].data\n",
    "\n",
    "hdul.close()\n",
    "\n",
    "##################################################################################\n",
    "\n",
    "hdul = fits.open('woo_results_files\\woo_zbin4_results_v3.fits')\n",
    "\n",
    "zbin4_results = hdul[1].data\n",
    "\n",
    "hdul.close()"
   ]
  },
  {
   "cell_type": "code",
   "execution_count": 13,
   "metadata": {},
   "outputs": [],
   "source": [
    "zbin1_results_key = zbin1_results['KEY']\n",
    "zbin2_results_key = zbin2_results['KEY']\n",
    "zbin3_results_key = zbin3_results['KEY']\n",
    "zbin4_results_key = zbin4_results['KEY']"
   ]
  },
  {
   "cell_type": "code",
   "execution_count": 14,
   "metadata": {},
   "outputs": [
    {
     "name": "stdout",
     "output_type": "stream",
     "text": [
      "1502\n",
      "1434\n"
     ]
    }
   ],
   "source": [
    "zbin1_data_key = []\n",
    "\n",
    "for row in zbin1_data:\n",
    "    \n",
    "    ######################################### set up file directories\n",
    "\n",
    "    PLATE = '{:04}'.format(row['PLATEID'])\n",
    "    MJD   = str(row['MJD'])\n",
    "    FIBER = '{:03}'.format(row['FIBERID'])\n",
    "    key_list = ['spSpec',MJD, PLATE, FIBER]\n",
    "    key = '-'.join(key_list)\n",
    "    ###############################\n",
    "\n",
    "    zbin1_data_key.append(key)\n",
    "\n",
    "\n",
    "zbin1_data_key = np.array(zbin1_data_key)\n",
    "\n",
    "print(len(zbin1_data_key))\n",
    "print(len(zbin1_results_key))"
   ]
  },
  {
   "cell_type": "code",
   "execution_count": 15,
   "metadata": {},
   "outputs": [
    {
     "name": "stdout",
     "output_type": "stream",
     "text": [
      "4216\n",
      "4061\n"
     ]
    }
   ],
   "source": [
    "zbin2_data_key = []\n",
    "\n",
    "for row in zbin2_data:\n",
    "    \n",
    "    ######################################### set up file directories\n",
    "\n",
    "    PLATE = '{:04}'.format(row['PLATEID'])\n",
    "    MJD   = str(row['MJD'])\n",
    "    FIBER = '{:03}'.format(row['FIBERID'])\n",
    "    key_list = ['spSpec',MJD, PLATE, FIBER]\n",
    "    key = '-'.join(key_list)\n",
    "    ###############################\n",
    "\n",
    "    zbin2_data_key.append(key)\n",
    "\n",
    "\n",
    "zbin2_data_key = np.array(zbin2_data_key)\n",
    "\n",
    "print(len(zbin2_data_key))\n",
    "print(len(zbin2_results_key))"
   ]
  },
  {
   "cell_type": "code",
   "execution_count": 16,
   "metadata": {},
   "outputs": [
    {
     "name": "stdout",
     "output_type": "stream",
     "text": [
      "5306\n",
      "5103\n"
     ]
    }
   ],
   "source": [
    "zbin3_data_key = []\n",
    "\n",
    "for row in zbin3_data:\n",
    "    \n",
    "    ######################################### set up file directories\n",
    "\n",
    "    PLATE = '{:04}'.format(row['PLATEID'])\n",
    "    MJD   = str(row['MJD'])\n",
    "    FIBER = '{:03}'.format(row['FIBERID'])\n",
    "    key_list = ['spSpec',MJD, PLATE, FIBER]\n",
    "    key = '-'.join(key_list)\n",
    "    ###############################\n",
    "\n",
    "    zbin3_data_key.append(key)\n",
    "\n",
    "\n",
    "zbin3_data_key = np.array(zbin3_data_key)\n",
    "\n",
    "print(len(zbin3_data_key))\n",
    "print(len(zbin3_results_key))"
   ]
  },
  {
   "cell_type": "code",
   "execution_count": 17,
   "metadata": {},
   "outputs": [
    {
     "name": "stdout",
     "output_type": "stream",
     "text": [
      "315\n",
      "305\n"
     ]
    }
   ],
   "source": [
    "zbin4_data_key = []\n",
    "\n",
    "for row in zbin4_data:\n",
    "    \n",
    "    ######################################### set up file directories\n",
    "\n",
    "    PLATE = '{:04}'.format(row['PLATEID'])\n",
    "    MJD   = str(row['MJD'])\n",
    "    FIBER = '{:03}'.format(row['FIBERID'])\n",
    "    key_list = ['spSpec',MJD, PLATE, FIBER]\n",
    "    key = '-'.join(key_list)\n",
    "    ###############################\n",
    "\n",
    "    zbin4_data_key.append(key)\n",
    "\n",
    "\n",
    "zbin4_data_key = np.array(zbin4_data_key)\n",
    "\n",
    "print(len(zbin4_data_key))\n",
    "print(len(zbin4_results_key))"
   ]
  },
  {
   "cell_type": "code",
   "execution_count": 18,
   "metadata": {},
   "outputs": [],
   "source": [
    "mask_zbin1 = np.isin(zbin1_data_key, zbin1_results_key)\n",
    "mask_zbin2 = np.isin(zbin2_data_key, zbin2_results_key)\n",
    "mask_zbin3 = np.isin(zbin3_data_key, zbin3_results_key)\n",
    "mask_zbin4 = np.isin(zbin4_data_key, zbin4_results_key)"
   ]
  },
  {
   "cell_type": "code",
   "execution_count": 19,
   "metadata": {},
   "outputs": [],
   "source": [
    "zbin1_gal_info_v2 = zbin1_data[mask_zbin1]\n",
    "zbin1_gal_line_v2 = zbin1_line[mask_zbin1]\n",
    "\n",
    "zbin2_gal_info_v2 = zbin2_data[mask_zbin2]\n",
    "zbin2_gal_line_v2 = zbin2_line[mask_zbin2]\n",
    "\n",
    "zbin3_gal_info_v2 = zbin3_data[mask_zbin3]\n",
    "zbin3_gal_line_v2 = zbin3_line[mask_zbin3]\n",
    "\n",
    "zbin4_gal_info_v2 = zbin4_data[mask_zbin4]\n",
    "zbin4_gal_line_v2 = zbin4_line[mask_zbin4]"
   ]
  },
  {
   "cell_type": "code",
   "execution_count": 20,
   "metadata": {},
   "outputs": [
    {
     "data": {
      "text/plain": [
       "4061"
      ]
     },
     "execution_count": 20,
     "metadata": {},
     "output_type": "execute_result"
    }
   ],
   "source": [
    "len(zbin2_gal_info_v2)"
   ]
  },
  {
   "cell_type": "code",
   "execution_count": 21,
   "metadata": {},
   "outputs": [],
   "source": [
    "mask_zbin1_2 = zbin1_results['WING_VELDIS'] != 0\n",
    "mask_zbin2_2 = zbin2_results['WING_VELDIS'] != 0\n",
    "mask_zbin3_2 = zbin3_results['WING_VELDIS'] != 0\n",
    "mask_zbin4_2 = zbin4_results['WING_VELDIS'] != 0"
   ]
  },
  {
   "cell_type": "code",
   "execution_count": 22,
   "metadata": {},
   "outputs": [],
   "source": [
    "zbin1_results_v3  = zbin1_results[mask_zbin1_2]\n",
    "zbin1_gal_info_v3 = zbin1_gal_info_v2[mask_zbin1_2]\n",
    "zbin1_gal_line_v3 = zbin1_gal_line_v2[mask_zbin1_2]\n",
    "\n",
    "zbin2_results_v3  = zbin2_results[mask_zbin2_2]\n",
    "zbin2_gal_info_v3 = zbin2_gal_info_v2[mask_zbin2_2]\n",
    "zbin2_gal_line_v3 = zbin2_gal_line_v2[mask_zbin2_2]\n",
    "\n",
    "zbin3_results_v3  = zbin3_results[mask_zbin3_2]\n",
    "zbin3_gal_info_v3 = zbin3_gal_info_v2[mask_zbin3_2]\n",
    "zbin3_gal_line_v3 = zbin3_gal_line_v2[mask_zbin3_2]\n",
    "\n",
    "zbin4_results_v3  = zbin4_results[mask_zbin4_2]\n",
    "zbin4_gal_info_v3 = zbin4_gal_info_v2[mask_zbin4_2]\n",
    "zbin4_gal_line_v3 = zbin4_gal_line_v2[mask_zbin4_2]"
   ]
  },
  {
   "cell_type": "code",
   "execution_count": 24,
   "metadata": {},
   "outputs": [],
   "source": [
    "# Table(zbin1_results_v3).write('woo_zbin1_results_v3.fits')\n",
    "# Table(zbin1_gal_info_v3).write('gal_info_zbin1_v3.fits')\n",
    "# Table(zbin1_gal_line_v3).write('gal_line_zbin1_v3.fits')\n",
    "# Table(zbin2_results_v3).write('woo_zbin2_results_v3.fits')\n",
    "# Table(zbin2_gal_info_v3).write('gal_info_zbin2_v3.fits')\n",
    "# Table(zbin2_gal_line_v3).write('gal_line_zbin2_v3.fits')\n",
    "# Table(zbin3_results_v3).write('woo_zbin3_results_v3.fits')\n",
    "# Table(zbin3_gal_info_v3).write('gal_info_zbin3_v3.fits')\n",
    "# Table(zbin3_gal_line_v3).write('gal_line_zbin3_v3.fits')\n",
    "# Table(zbin4_results_v3).write('woo_zbin4_results_v3.fits')\n",
    "# Table(zbin4_gal_info_v3).write('gal_info_zbin4_v3.fits')\n",
    "# Table(zbin4_gal_line_v3).write('gal_line_zbin4_v3.fits')"
   ]
  }
 ],
 "metadata": {
  "kernelspec": {
   "display_name": "Python 3",
   "language": "python",
   "name": "python3"
  },
  "language_info": {
   "codemirror_mode": {
    "name": "ipython",
    "version": 3
   },
   "file_extension": ".py",
   "mimetype": "text/x-python",
   "name": "python",
   "nbconvert_exporter": "python",
   "pygments_lexer": "ipython3",
   "version": "3.7.3"
  }
 },
 "nbformat": 4,
 "nbformat_minor": 2
}
