{
 "cells": [
  {
   "cell_type": "code",
   "execution_count": 1,
   "metadata": {},
   "outputs": [
    {
     "data": {
      "text/plain": [
       "'\\nz bin 1 recreate Woo et al fig 2 upper panel\\n\\nAuthor: Alan Nguyen\\n\\n12-06-2020\\n'"
      ]
     },
     "execution_count": 1,
     "metadata": {},
     "output_type": "execute_result"
    }
   ],
   "source": [
    "\"\"\"\n",
    "z bin 1 recreate Woo et al fig 2 upper panel\n",
    "\n",
    "Author: Alan Nguyen\n",
    "\n",
    "12-06-2020\n",
    "\"\"\""
   ]
  },
  {
   "cell_type": "code",
   "execution_count": 2,
   "metadata": {},
   "outputs": [],
   "source": [
    "import numpy as np\n",
    "import matplotlib\n",
    "import matplotlib.pyplot as plt\n",
    "from astropy.io import fits\n",
    "from astropy.table import Table, Column\n",
    "from scipy.optimize import curve_fit, leastsq\n",
    "from astropy.cosmology import WMAP9 as cosmo\n",
    "from astropy import units as u\n",
    "import os\n",
    "import math as m\n",
    "from astropy import constants as const\n",
    "import time\n",
    "from BOSS_func_v9 import *\n",
    "from general_functions_v1 import *"
   ]
  },
  {
   "cell_type": "code",
   "execution_count": 3,
   "metadata": {},
   "outputs": [],
   "source": [
    "hdul = fits.open('AGN_zbin_fitsfiles\\AGN_zbin1_v2.fits')\n",
    "\n",
    "zbin1_data = hdul[1].data\n",
    "\n",
    "hdul.close()\n",
    "\n",
    "#########################################\n",
    "\n",
    "hdul = fits.open('AGN_zbin_fitsfiles\\AGN_zbin2.fits')\n",
    "\n",
    "zbin2_data = hdul[1].data\n",
    "\n",
    "hdul.close()\n",
    "\n",
    "#########################################\n",
    "\n",
    "hdul = fits.open('AGN_zbin_fitsfiles\\AGN_zbin3.fits')\n",
    "\n",
    "zbin3_data = hdul[1].data\n",
    "\n",
    "hdul.close()\n",
    "\n",
    "#########################################\n",
    "\n",
    "hdul = fits.open('AGN_zbin_fitsfiles\\AGN_zbin4.fits')\n",
    "\n",
    "zbin4_data = hdul[1].data\n",
    "\n",
    "hdul.close()"
   ]
  },
  {
   "cell_type": "code",
   "execution_count": 4,
   "metadata": {},
   "outputs": [],
   "source": [
    "zbin1_OIII_flux = zbin1_data['FLUX'][:, 17]\n",
    "zbin1_redshift  = zbin1_data['Z']\n",
    "\n",
    "zbin2_OIII_flux = zbin2_data['FLUX'][:, 17]\n",
    "zbin2_redshift  = zbin2_data['Z']\n",
    "\n",
    "zbin3_OIII_flux = zbin3_data['FLUX'][:, 17]\n",
    "zbin3_redshift  = zbin3_data['Z']\n",
    "\n",
    "zbin4_OIII_flux = zbin4_data['FLUX'][:, 17]\n",
    "zbin4_redshift  = zbin4_data['Z']"
   ]
  },
  {
   "cell_type": "code",
   "execution_count": 5,
   "metadata": {},
   "outputs": [],
   "source": [
    "zbin1_lum_dis = cosmo.luminosity_distance(zbin1_redshift)\n",
    "zbin1_lum_dis = zbin1_lum_dis.to(u.cm)\n",
    "zbin1_OIII_flux_correct_units = zbin1_OIII_flux * (10**(-17)) * (u.erg/(u.cm*u.cm*u.second))\n",
    "zbin1_OIII_lum = 4 * np.pi * zbin1_OIII_flux_correct_units * (zbin1_lum_dis ** 2)\n",
    "\n",
    "##################################################################################\n",
    "\n",
    "zbin2_lum_dis = cosmo.luminosity_distance(zbin2_redshift)\n",
    "zbin2_lum_dis = zbin2_lum_dis.to(u.cm)\n",
    "zbin2_OIII_flux_correct_units = zbin2_OIII_flux * (10**(-17)) * (u.erg/(u.cm*u.cm*u.second))\n",
    "zbin2_OIII_lum = 4 * np.pi * zbin2_OIII_flux_correct_units * (zbin2_lum_dis ** 2)\n",
    "\n",
    "##################################################################################\n",
    "\n",
    "zbin3_lum_dis = cosmo.luminosity_distance(zbin3_redshift)\n",
    "zbin3_lum_dis = zbin3_lum_dis.to(u.cm)\n",
    "zbin3_OIII_flux_correct_units = zbin3_OIII_flux * (10**(-17)) * (u.erg/(u.cm*u.cm*u.second))\n",
    "zbin3_OIII_lum = 4 * np.pi * zbin3_OIII_flux_correct_units * (zbin3_lum_dis ** 2)\n",
    "\n",
    "##################################################################################\n",
    "\n",
    "zbin4_lum_dis = cosmo.luminosity_distance(zbin4_redshift)\n",
    "zbin4_lum_dis = zbin4_lum_dis.to(u.cm)\n",
    "zbin4_OIII_flux_correct_units = zbin4_OIII_flux * (10**(-17)) * (u.erg/(u.cm*u.cm*u.second))\n",
    "zbin4_OIII_lum = 4 * np.pi * zbin4_OIII_flux_correct_units * (zbin4_lum_dis ** 2)"
   ]
  },
  {
   "cell_type": "code",
   "execution_count": 6,
   "metadata": {},
   "outputs": [],
   "source": [
    "zbin1_OIII_lum_array = np.array(zbin1_OIII_lum)\n",
    "zbin2_OIII_lum_array = np.array(zbin2_OIII_lum)\n",
    "zbin3_OIII_lum_array = np.array(zbin3_OIII_lum)\n",
    "zbin4_OIII_lum_array = np.array(zbin4_OIII_lum)\n",
    "\n",
    "##################################################################################\n",
    "\n",
    "zbin1_OIII_lum_array = np.log10(zbin1_OIII_lum_array)\n",
    "zbin2_OIII_lum_array = np.log10(zbin2_OIII_lum_array)\n",
    "zbin3_OIII_lum_array = np.log10(zbin3_OIII_lum_array)\n",
    "zbin4_OIII_lum_array = np.log10(zbin4_OIII_lum_array)\n",
    "\n",
    "##################################################################################\n",
    "\n",
    "zbin1_mean_OIII_lum = np.mean(zbin1_OIII_lum_array)\n",
    "zbin1_std_OIII_lum   = np.std(zbin1_OIII_lum_array)\n",
    "zbin1_mean_redshift = np.mean(zbin1_redshift)\n",
    "\n",
    "##################################################################################\n",
    "\n",
    "zbin2_mean_OIII_lum = np.mean(zbin2_OIII_lum_array)\n",
    "zbin2_std_OIII_lum   = np.std(zbin2_OIII_lum_array)\n",
    "zbin2_mean_redshift = np.mean(zbin2_redshift)\n",
    "\n",
    "##################################################################################\n",
    "\n",
    "zbin3_mean_OIII_lum = np.mean(zbin3_OIII_lum_array)\n",
    "zbin3_std_OIII_lum   = np.std(zbin3_OIII_lum_array)\n",
    "zbin3_mean_redshift = np.mean(zbin3_redshift)\n",
    "\n",
    "##################################################################################\n",
    "\n",
    "zbin4_mean_OIII_lum = np.mean(zbin4_OIII_lum_array)\n",
    "zbin4_std_OIII_lum   = np.std(zbin4_OIII_lum_array)\n",
    "zbin4_mean_redshift = np.mean(zbin4_redshift)"
   ]
  },
  {
   "cell_type": "code",
   "execution_count": 7,
   "metadata": {},
   "outputs": [],
   "source": [
    "plot_yaxis = np.zeros(4)\n",
    "plot_yaxis[0] = zbin1_mean_OIII_lum\n",
    "plot_yaxis[1] = zbin2_mean_OIII_lum\n",
    "plot_yaxis[2] = zbin3_mean_OIII_lum\n",
    "plot_yaxis[3] = zbin4_mean_OIII_lum\n",
    "\n",
    "plot_xaxis = np.zeros(4)\n",
    "plot_xaxis[0] = zbin1_mean_redshift\n",
    "plot_xaxis[1] = zbin2_mean_redshift\n",
    "plot_xaxis[2] = zbin3_mean_redshift\n",
    "plot_xaxis[3] = zbin4_mean_redshift\n",
    "\n",
    "plot_yerror = np.zeros(4)\n",
    "plot_yerror[0] = zbin1_std_OIII_lum\n",
    "plot_yerror[1] = zbin2_std_OIII_lum\n",
    "plot_yerror[2] = zbin3_std_OIII_lum\n",
    "plot_yerror[3] = zbin4_std_OIII_lum"
   ]
  },
  {
   "cell_type": "code",
   "execution_count": 8,
   "metadata": {},
   "outputs": [
    {
     "data": {
      "text/plain": [
       "array([0.09548108, 0.22160242, 0.39126638, 0.48597243])"
      ]
     },
     "execution_count": 8,
     "metadata": {},
     "output_type": "execute_result"
    }
   ],
   "source": [
    "plot_xaxis"
   ]
  },
  {
   "cell_type": "code",
   "execution_count": 59,
   "metadata": {},
   "outputs": [],
   "source": [
    "woo_xaxis  = np.array([0.035, 0.075, 0.15, 0.25])\n",
    "woo_yaxis  = np.array([39.7, 40.4, 41, 41.4])\n",
    "woo_yerror = np.array([0.6, 0.6, 0.5, 0.5])"
   ]
  },
  {
   "cell_type": "code",
   "execution_count": 63,
   "metadata": {},
   "outputs": [
    {
     "data": {
      "image/png": "[encoded data removed]",
      "text/plain": [
       "<Figure size 432x288 with 1 Axes>"
      ]
     },
     "metadata": {
      "needs_background": "light"
     },
     "output_type": "display_data"
    }
   ],
   "source": [
    "plt.errorbar(plot_xaxis, plot_yaxis, plot_yerror, color = 'blue', linewidth = 1, linestyle = '--', marker = 's', ms = 10, capsize = 5, label = 'This work')\n",
    "plt.errorbar(woo_xaxis, woo_yaxis, woo_yerror, color = 'grey', linewidth = 1, linestyle = '--', marker = 's', ms = 10, capsize = 5, label = 'Woo et al')\n",
    "\n",
    "plt.xlim(0,0.6)\n",
    "plt.ylim(39, 44)\n",
    "\n",
    "plt.xlabel('Redshift (z)', fontsize = 16)\n",
    "plt.ylabel(r'log L$_{[OIII]}$ (erg s$^{-1}$)', fontsize = 16)\n",
    "\n",
    "plt.legend()\n",
    "\n",
    "# plt.savefig('WooEtAl_Fig2Upper_Clone_v2.png')\n",
    "\n",
    "plt.show()"
   ]
  },
  {
   "cell_type": "code",
   "execution_count": null,
   "metadata": {},
   "outputs": [],
   "source": []
  }
 ],
 "metadata": {
  "kernelspec": {
   "display_name": "Python 3",
   "language": "python",
   "name": "python3"
  },
  "language_info": {
   "codemirror_mode": {
    "name": "ipython",
    "version": 3
   },
   "file_extension": ".py",
   "mimetype": "text/x-python",
   "name": "python",
   "nbconvert_exporter": "python",
   "pygments_lexer": "ipython3",
   "version": "3.7.3"
  }
 },
 "nbformat": 4,
 "nbformat_minor": 2
}
